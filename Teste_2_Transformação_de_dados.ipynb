{
  "nbformat": 4,
  "nbformat_minor": 0,
  "metadata": {
    "colab": {
      "name": "Teste 2 - Transformação de dados.ipynb",
      "provenance": [],
      "authorship_tag": "ABX9TyNmGT9nm4NiQPwzJ8nRwqbe",
      "include_colab_link": true
    },
    "kernelspec": {
      "name": "python3",
      "display_name": "Python 3"
    },
    "language_info": {
      "name": "python"
    }
  },
  "cells": [
    {
      "cell_type": "markdown",
      "metadata": {
        "id": "view-in-github",
        "colab_type": "text"
      },
      "source": [
        "<a href=\"https://colab.research.google.com/github/LcsCunha/Treinos-de-Python/blob/main/Teste_2_Transforma%C3%A7%C3%A3o_de_dados.ipynb\" target=\"_parent\"><img src=\"https://colab.research.google.com/assets/colab-badge.svg\" alt=\"Open In Colab\"/></a>"
      ]
    },
    {
      "cell_type": "markdown",
      "metadata": {
        "id": "3CRJR-BqWKlb"
      },
      "source": [
        "# Tarefas de código:\n",
        "    - Extrair do pdf do teste 1 os dados dos Quadros 30,31,32 (Tabela de categoria do Padrão TISS);\n",
        "    - Salvar dados em tabelas estruturadas, em csvs;\n",
        "    - Zipar todos os csvs num arquivo \"Teste_Intuitive_Care_{seu_nome}.zip\".\n"
      ]
    },
    {
      "cell_type": "code",
      "metadata": {
        "id": "E9-wTKx0WDxU"
      },
      "source": [
        "!pip install kaggle\n",
        "!pip install fitz\n",
        "!pip install PyMuPDF\n",
        "!pip install tabula-py\n",
        "!pip install pandas\n",
        "!pip install xlwt"
      ],
      "execution_count": null,
      "outputs": []
    },
    {
      "cell_type": "markdown",
      "metadata": {
        "id": "4xO0dr3WeB52"
      },
      "source": [
        "##Pegando o arquivo pdf com as tabelas"
      ]
    },
    {
      "cell_type": "code",
      "metadata": {
        "id": "9R4d4WbJeBch",
        "colab": {
          "base_uri": "https://localhost:8080/"
        },
        "outputId": "b508a5ac-64a3-4567-a97c-091dd2cda33d"
      },
      "source": [
        "#Também poderia ser efetuado utilizando o código do teste 1\n",
        "#Nesse caso utilizei a API de um site chamado Kaggle, onde posso armazenar dados para pegá-los de forma automática com Python\n",
        "import os\n",
        "\n",
        "os.environ['KAGGLE_USERNAME'] = \"lucascunhadecarvalho\"\n",
        "os.environ['KAGGLE_KEY'] = \"66aee9f83fd989281d28d8832f428c68\"\n",
        "\n",
        "!kaggle datasets download -d lucascunhadecarvalho/teste-intuitive-care #Link para o kaggle: https://www.kaggle.com/lucascunhadecarvalho/teste-intuitive-care\n",
        "!unzip -q teste-intuitive-care"
      ],
      "execution_count": 2,
      "outputs": [
        {
          "output_type": "stream",
          "name": "stdout",
          "text": [
            "Downloading teste-intuitive-care.zip to /content\n",
            "\r  0% 0.00/2.12M [00:00<?, ?B/s]\n",
            "\r100% 2.12M/2.12M [00:00<00:00, 70.9MB/s]\n"
          ]
        }
      ]
    },
    {
      "cell_type": "code",
      "metadata": {
        "id": "TH58VtoMmVpq"
      },
      "source": [
        "#Printando uma parte específica procurando as tabelas no pdf\n",
        "import fitz  # this is pymupdf\n",
        "\n",
        "pdf = \"padrao_tiss_componente_organizacional_202108.pdf\" #Variável que guardará o caminho para o arquivo pdf\n",
        "\n",
        "with fitz.open(pdf) as doc: \n",
        "    text = \"\"\n",
        "    for page in doc:\n",
        "        text += page.getText()\n",
        "        #Procurei encontrar a página onde começa o quadro 30, buscando pela dada palavra chave dentro do if\n",
        "        if \"Tabela de categoria do Padrão TISS\" in text: \n",
        "          break\n",
        "\n",
        "print(text) #printando o texto do pdf para análise"
      ],
      "execution_count": null,
      "outputs": []
    },
    {
      "cell_type": "code",
      "metadata": {
        "id": "9kMo2RF5ZnLU"
      },
      "source": [
        "#Encontradas as tabelas, isolei os trechos do pdf (páginas) que contém apenas as tabelas\n",
        "with fitz.open(pdf) as doc:\n",
        "    text = \"\"\n",
        "    for page in doc:\n",
        "        text += page.getText()\n",
        "        #Com as tabelas encontradas, busquei o número das páginas onde encontram-se as tabelas\n",
        "        if \"Quadro 32 – Tabela de tipo de solicitação\" in text:\n",
        "          tabelas = text.index(\"Quadro 30 – Tabela de tipo de demandante\")\n",
        "          text = text[tabelas:]\n",
        "          tabelas = text.index(\"Exclusão \") + len(\"Exclusão \")\n",
        "          text = text[:tabelas]\n",
        "          break\n",
        "\n",
        "print(text) #Printando o texto para análise"
      ],
      "execution_count": null,
      "outputs": []
    },
    {
      "cell_type": "code",
      "metadata": {
        "id": "zNo4d1LZEF6A"
      },
      "source": [
        "#Encontrando as páginas e a partir da análise dos outputs anteriores, pude pegar as tabelas utilizando tabula e pandas\n",
        "import tabula\n",
        "import pandas as pd\n",
        "\n",
        "tabela30 = tabula.read_pdf(pdf, pages='108') #Lendo tabelas página por página como listas\n",
        "print(tabela30[0]) #Printando a tabela 30 para análise\n",
        "\n",
        "#Como a tabela 31 se extende por mais páginas, foi necessário guardar as listas resultantes em uma lista\n",
        "tabela31 = []\n",
        "for pagina in range(109, 115): \n",
        "  tabela31.append(tabula.read_pdf(pdf, pages=str(pagina)))\n",
        "\n",
        "print(tabela31)\n",
        "\n",
        "#Tabula pega todas as tabelas de uma mesma página e as guarda em uma lista\n",
        "tabela32 = tabula.read_pdf(pdf, pages='114')\n",
        "#Como na página 114 existem 2 tabelas: parte da tabela 31 e a tabela 32, a tabela 32 fica armazenada no segundo index\n",
        "print(tabela32[1])"
      ],
      "execution_count": null,
      "outputs": []
    },
    {
      "cell_type": "code",
      "metadata": {
        "id": "lzHqgaMUSuEo"
      },
      "source": [
        "#Salvando as tabelas em csv\n",
        "tabela30[0].to_csv(\"tabela30.csv\", encoding='utf-8-sig')\n",
        "\n",
        "for pagina in tabela31:\n",
        "    pagina[0].to_csv(\"tabela31.csv\", mode='a', encoding='utf-8-sig')\n",
        "\n",
        "tabela32[1].to_csv(\"tabela32.csv\", encoding='utf-8-sig')\n"
      ],
      "execution_count": 6,
      "outputs": []
    },
    {
      "cell_type": "markdown",
      "metadata": {
        "id": "q3vnnZjsi4mc"
      },
      "source": [
        "No código anterior, os arquivos foram salvos como csv, porém com as suas células \"grudadas\":\n",
        "\n",
        "![Exemplo excel.png](data:image/png;base64,iVBORw0KGgoAAAANSUhEUgAAAcsAAAC6CAIAAABOafHAAAAAAXNSR0IArs4c6QAAAARnQU1BAACxjwv8YQUAAAAJcEhZcwAADsMAAA7DAcdvqGQAABcxSURBVHhe7Z3LrhxFtob9Hoz6HZjgSc/OIzByS4z2GHEeAO0Jgx55CgaBaFsgLgZjKFtGlizAIEsWiGNmPa/X4MSK61qREXnZlbFXZeT/yeqOy4qVq8oZn5PcuypvHAEAALQBhgUAgFbAsAAA0AoYFgAAWgHDAgBAK2BYAABoBQwLAACtgGEBAKAVqxn28ePH/wdAR5hT2p/c28S8BN/aJn3Uv5phHz16RGclAL1gTml/cm+TP/74w7e2SR/1r2bYw+HgT0wAusCc0v7k3iYvX770rW3SR/0wLABltm7YFy9e+NY26aP+kwz76tUr3zoef/jhB39iAtAF5pT2J/c2+fXXX31rm/RR/9UNa/T6/fff+87xaNr+xAQtufPeG6+99x/fAS3hp/eq3L11I/L65XM/ujo///yzbzXh+eXr/jXcuHHrrh9ckzb18zff0Pz9v6JhnV75KWja/sQE7Xj273++8/Zb77x9x/dBQ/jpvSpmk4eNzZqr8+zZM99aH/JUKvz55WUDxbapX77j1rdN/n0I9V/FsFGvBj90PD58+NCfmKAZjz54858fPHH/64dAM8wp7c7ttWGb3FwINjPs06dPfWttWv67kGhT/6D2Zi/G1b/YsFyvBj96PH733Xf+xAStePLuO2+++8xdyf4bvxzXGnNK+5N7ZdKebinY45MnT3xrZUz9jS77BG3qHwq1lWJd/csMm+nV4CeOxwcPHvgTEzQiiTWoFrTEnNL+5F4Zs6UD7fxqf0Xdt9aFbsBeh2Hb1H99hnX1LzDsUK8GPwfDtoffHMCNgmugpWHDlibZtrIV356rYoq+DsO2qb9o2CYvx9U/17BFvRr89PH47bff+hMTNOE/b/3rjdfEH/y8qy3mlPYn98rwTT7c8KvR7F+Ia7qIbVN//oa3ezGu/lmGrenV4COOx2+++cafmKAFX7/9mrj3+uTdd95462vfAS0wp7Q/uVeGbXLTbCar+/fv+9bqUNms7ja/S9CmfmFY0muzf+Fc/dOGHdGrwQfBsI25894b2W2BRx+8iV+MbUpLw0ZabW/Dl19+6VstsHLytHkRbernb37b++Cu/gnDjuvV4OOssP2JCUAXNLwGvBY+//xz39omfdQ/ZthJvRp86PH49df4T1bQFeaU9if3Nrl3755vbZM+6p/7k65JYFjQGVs37Keffupb26SP+lcz7FdffeVPTAC6wJzS/uTeJh9//LFvbZM+6l/NsP/43//BH/zp7I8/ubfJhx9+6FvbpI/6b7x69erPP//8/fffX758+eLFi99+++2XX3756aefnj179vTp0x9//PHx48eHw+Hhw4cPHjy4f/+++Yf9iy+++Oyzz+7du2cugz/55JOPPvrozp0777//fnZ24g/+bP2POasBOIXVrmFNrr8B6Ii//vrLt7YJ6tfF1Q/DAlAGhtIFhhXAsKAzYChdYFgBDAs6A4bSBYYVwLCgM2AoXWBYwcmG/e/tmzcuDr4zh8PFjWULHGbZzdv/9Z3z4AxLms+mix8FhtJlJ4alL0qY8/UIJcOSAwfUpHhuhq0WTxPrOmVuSQZ6lzhXeANWZkHxgsV/39cODKVL/4a1355z63Legy7GrmFpM03uwnO9hp1V/GksNGyKpbegdXFTwLDnCurXZdqwDuPZ9Q1LI56wy9yOs84geDyLZpuSQmOvkJCRZm/evs2NUM4soBBRPDuumTNTC2pOXLGksWoqa80gL9KMxzCWiS0NK2mo/DeSgmXxc5OwuJSXD8biNYGhdIFhBUsMe7jgu8q33QbjHb/NuEN4JjZeTBjJF5UyFBdaBhNsFc2VambNrOPhSXlJixY6UjmVl2PT+AnXZh0fM/03kr3qEM6LX5TEToS2oVK8JjCULjCs4Ip3CdI+G+44uyRfG8blnkxkaQyVxCOZBXkYP24ldV7DIPNYSaMLh9XEcvKZclLRCUsFKULEVosc1miYTJJNUKdYvCYwlC4wrGCRYWkgUdqKcffLUItPFSKIUsIAjzPEzVvPLKAwMc7yVWrOjpiH1UuaXDisJq6hmYz0OmMS0WGHk6vdoIitFhnHFyXJJuRKi3yVGsBQusCwggWG5Vs07TO5FeNezIYZKU05YaCSeCSzgMLEbmdHq6TOM8dDBuaWNFg4Uk2+NiImRCeujQ1DipAZa0XG8UVJsoks53kAQ+kCwwq4YfleI2j/MC2waWr6NgXFKxe2IlucSGnKCSM0xpKVDjLCIIodrZbOjocqSocZK2l0oRyz4aFbCidoPL4johNfCXtJ1PRtEUsTPnul+GVJ7EQqV/bOAxhKFxhWsMCwfgcS9kfRcSvevH2wO5bI1ydCJn6UUkJGSnBxsMfhGztR3OIUMijeH4Hm2A/K+XHj4EhaR1bS+EJZcB4hZ/2kK9LOZx32SuJR5d9IiqWIeLR0HFH81ZKEgZSUiGF6wFC67MWwM0mGlXuqa3b0UncIDKULDCuIhjXWOYPrj+sBhu0ZGEoXGFYw9pOuboFhewaG0gWGFezSsKBnYChdOjHsis/pMhkBAABEcA0LQBmzPXxrm6B+XVz9MCwAZWAoXWBYAQwLOgOG0gWGFcCwoDNgKF1gWAEMe3XsZ6Hsb32ZFn7761yAoXSBYQXrGpZ+0bT2uQX+ycsecB/RsG51TT++hN7ek7MAhtKlf8M+p6fIOG7d9WNVhGFJkJ7qJRmLye0w7gs2a5qnmYUXQTS6gBytM2iVgq76asbfseXQ+9L4Yvrkv7vmwFC6dG/Yu7eCV0m1U45lhmV7p7aN5HhwzDzWtAmZJCWjqtbLfZ2s+Z4Q12DY8weG0qV7wzJmfL9WMix5Ku7O4lYVERKKD7CQNCweDCUSWT8m/HgloYdmhZoGxQfSWjYalrIhG2ey2DrDQC2rHxuOEOWjJ9K8eE8q2QLTR+fHLb1CnnXBe77wPTkDYChd9mTYu7fmX8PSZknSkj0HjRX3kd1nYYZ1eBK7p3nHx9sNbEdZ+lrCCM/sSCm5AlIcyx6gwFQRtWiEH4ulKgWHPqtGFCs6HhbrDuc7xWyRmUe3bXZAVj8PM8O+xeKpWarcFsmSspzjNasBQ+myG8POuUdQNSzbhRG+Xzlsm1rC0mycZUyZeEwMqCVMZMUaQsp8JqylcZGUFRHJh1K/EMyIBU9WngUM5ok8yeyjZ0upU3srQlAsID9onMiPXa4lX64JDKXLLgxLdp3z/duLrmHLe2s4HnZbNm66ISObSaNpMFtY2L7D8sIamskIgWEqHU+mGB5YlJQHZ4eycXmCQeVZAEtbyBaZefTseDLC4rKkdKmcrLCUKZ/g/bGa9YChdOnfsDPuviZWuA+bx5owu4Gz8TDsmn5G7NEQXEuYoAgxFDPma4eE0FREJB9K/WEwH4kHnaw8C4jzxWyRmUfPlg7zOGg8UkhiKVZGpH6lBnVgKF16N6zx6/S9gUQyLN8x5abbm0kZpms7dpjH+BBa6ps2JC5NOU0rLGTUEkbkmA0P3VK4gAJsblaeaVOLv1aC9QfB2Zxv21JCilIpLI+N9Z1ytghbZdrVo2dHLB3fYBZk6Yla5exIltSv1KAODKVL74a9e8uc7IyJy1lm2LDnibQxsx2WQgwyysP3dIoePBgq5GQrZyT0iCoGEXLWTfLDxJeTAlMQ94Tos6xuLKZkj7fiw8XKR98Ti8wWyEutxIewkJUVbRgci0hFFiunQV4N75dr0AaG0qV3wy5EGHYI7dCGO4fSp81MO5b1zpCzL3AGW3vPFwND6QLDCsYNa3Zj0+3HL4gGe/8c6cBHm3vPlwJD6QLDCiauYZtDOzxy1ludzHTuNc5jO+/5lYChdIFhBdqGBWBlYChdOjEsntMFAACNwDUsAGXM9vCtbYL6dXH1w7AAlIGhdIFhBTAs6AwYShcYVgDDgs6AoXSBYQUwLOgMGEoXGFbQj2H7+3ASuBIwlC79GzZ9M8GMr9jKDOt+GX3EVBMB4pfZr9d4MCywwFC6dG/Y55eX/ru1SLWLn9N1MI6smGoqwH7qSX4g8xqlB8MCCwylS/eGZSx5ikyAvDhqqlpAaZyc65RrZs2kdTDBA62JPdHP1pfs8VA8KpO4xQanrCfkBBsHhtJlR4adIdj1DFsejheWTmY+wHa805KERQ7nYibHkJvF8EPa+EJ63pmTE2weGEqXHRg23Iid803cqxo2yisS/ZlNm3GbI08WxtPCATFTJeWgkiU5wfaBoXTZgWEDZNr5T/P25M4bUAkoD9e0F2RHwxllG8pAO5OFxEOVlpYWlHKC7QND6bIjw865T7DefdjcX0Qai5pzBB1mwwmZjffikkrKQc44MSMn2D4wlC69Gzb9KsGsJ85OGlZqyZAHRGiCz4i+7YQeS1HLVrUhNX2bmiyN7ITF7ABzcoLNA0Pp0rth411Yw7Lfh7WeYTgv5SJiFMwoQvg8ie7iEKe5zpwdA0UbssTFx1JRrGmnA7I65OB0TrBxYChdujfsMgbXsBInRt85hdUSATAODKULDCsYN6y4LjwJGBZcEzCULjCsYOIadjVgWHBNwFC6wLCC6zIsANcEDKVLJ4bFc7oAAKARuIYFoIzZHr61TVC/Lq5+GBaAMjCULjCsAIYFnQFD6QLDCmBY0BkwlC4wrACGBZ0BQ+kCwwq6MuwhfMfLiayVB2gAQ+myH8PSFxQs+gZu+lRAoPjpgPEA9l0AhhU+XrD4UwrbNyy9h5D7acBQuuzFsPTFWosMa3wW9rY16cBtUwHcS+UMC6EkOzMsOB0YSpd9GNb49fXLy6s8RcZCbht1TClAeomuxqwe7TB/OpbTrycZlI2aNDwmpGVjpWVXelRXZFmeBJuOa6YPfRHeHQvFu8XxXSNYmjA2UQwwwFC67MGw1q/PZ3z/ds2wYqOXKAVYhXAvJWnwYL40RVErTyjHWjyqK1LLU6k2QkN5tsoSeeiRID9MzVQFtShOLIodwIChdOnfsEas7othr2pYtuPLlAOMEuIg0wN3yXBpWFQSBo0VHRInsohYQb4yTshiImN5StVGKEAmrC7JDp26fEUazcINWZEpMxDAULr0blim1asZlrb26M6tBdB4JAVIVVglSUJomIpLM6XIpXZC5qauW5yNp0z5hKeWZ6TaSFZ2dUl+6NCPtfFBVkMkTyAWgggMpUvfhnU/3xKMP+ggMyzt4oFDOCMBQydYpBimtZDiK+5hE1m2WEF+lDghi4nMzTNCyFxdMji0i5TxKWhYaZ45VgkEMJQufRtWsPAalnbwcM+ynV4OiFR2fKYKSjIqhiQSEcrSUNO3qelDbHWiE47K8mTFRMby+OYEFGkz15YMD20jbwptsiBWkmlTy1YWgudXtjdgKF1gWEEyLO1oid3Mac9XAiJmfr5ZEm4NTx6jQ2AWYn8kH4JSsqs8qitRzZMmiDRuKZZdXlI4tIvjgyKIpQljxRcFBDCULjsy7BxKP+li0CbPtACuE6NUqHQZMJQuMKxg3LBGsNjfukCxS4GhdIFhBRPXsEARf0sAgl0GDKULDCuAYUFnwFC6dGJYPKcLAAAagWtYAMqY7eFb2wT16+Lqh2EBKAND6QLDCmBY0BkwlC4wrACGBZ0BQ+kCwwpgWNAZMJQuMKxgv4bFr/J3CgylS/+GFd+vNfXFBNywhc/BSyYDeMSZ+It+bb9YCQzbKTCULrsw7OQXvkSYYdNDBMhKBYVOBUiZnfsnbmHYToGhdOnfsHO+UitSvEtAV6Kj9ikFVLRM8CvbGEKDFwdaZRFq9mN+0EW6SW5GM25aMYMJiUtTNlFWSn3aQ73AGQND6bILwwamTVsyLEkpyadAKUBqkGHlFWZYx0nNp0keLOSRQ9Z7dpHLwLOxTqgvZR4MizzhAKxjY+IE2AgwlC79GzZCN2THn3CQGdYpZcQqIwHMZAIyFh83cU5sckIMZ4kqkXJcdFgxqSnT1AphEywL2A4wlC47Mmx86OwI1bsEo24pBNR0lI9Hn0mxRa0ZbHZDGKhFinHRYQdNzaySmCcbT5nyCbAJYChddmXY6VuyRcNayUThlSgEVHwkzGeIYpMTcTgRE9YixbjosFpSM6sk5snG0wTLArYDDKVL94a9eytIle4STN2JTYY1ogk6IecUDVUKiNjBpEnTtR0RS52SH5PWEilA1JAubkUG0WFuzJpsaf0+rB9nS8F2gKF02YFh7X9iE1M3YQ3sGtZZx5FsxzRTDuDwiCyHJw1SbPKXCXFTLFZOh6EYKTOIDoX7Dmvy+k57qBc4Y2AoXbo37DLKdwkiUoMAnD8wlC4wrGDcsOI6D4AtAEPpAsMKJq5hAdgaMJQuMKwAhgWdAUPp0olh8ZwuAABoBK5hAShjtodvbRPUr4urH4YFoAwMpQsMK4BhQWfAULrAsAIYFnQGDKULDCuAYUFnwFC6wLACGBZ0Bgylyz4MG7+cYNH3w1rcR/RHPso1FpA++E9c4fO2+JguOBEYSpcdGNbodcZ3vjhywxp93ry4GPnuwpEAq16mR9NfLEsYFpwIDKVL94Zd9CDEzLDOb/S/FcOOBJBf626kJYEUxUZNPh4T8xcXkubxBC1QBIbSpXfDkmAv4/O8J13LDUsyI1/R/xcNOxYwKlg+mRaHdBw5Rj2x0HcoH9wKisBQuvRuWHsHNoh1+n5BMmxyG7UKhh0PYBK1KnTYkTzcXoGaro3LNJkOkncMYaEwNgACGEqXHRiWSXVSscGwXGa5ES1TAUPpxREKzwirw1TMxg8zyBknYVhQBYbSpXfDyocfGsOO3ygIhiVn5QiJzgoQ1osDwppF0loRmy80Ye6Qg2MBEIChdOndsPzpXDMe1CV/0uUgsUV5lmQmAiI0ymOlNofxjKRSGWpThoxsCoYFVWAoXbo3rMHeiyWmf2lrRcMSVokRFlOaoNSBeIgQGNayoJQOhgVVYChd9mDYBZQMyyDfQWVgS8BQusCwgnHDGsGWr1UBOFdgKF1gWMHENSwAWwOG0gWGFcCwoDNgKF06MSye0wUAAI3ANSwAZcz28K1tgvp1cfXDsACUgaF0gWEFMCzoDBhKFxhWAMOCzoChdIFhBTAs6AwYShcYVgDDgs6AoXTp3bDxOwkC87690CC/OqDwWdnJAMJ9j0A26Qb5x8PEx3HZdw/gI7rgRGAoXXo3LGfZd2sJ6ZWYDDAYWdrHeMk4Gr1p9JxGUy7r7TBxuMCndMFpwFC67Miwk18Oa1jZsKRS98AtEWiHD1yl0rDQKlgNGEqX3RhWfhV3jcpdgqLyJgO8YIfW9ONsmJreti5tOSEAS4GhdNmLYSefH+Mo/qTLOm/sarUckAmUOTOYlxquRQEsAY3XxQ3AfGAoXXZi2Dl3CIiiYZ3xxhRbChBWlYqNho2OzQzroEFIFpwGDKXLPgw7V7AVw0o/FigEWD1KYgQzrJfz7ZJhXZJRswMwAQylyy4MO1uwybD8p/j+OjO2rfNqAZ7BkDWut6WZZHPBxXbSdEbzArAMGEqXPRh25j1YIl3Dkt0CzHI07DxZCXCksIRYKlY4x/r4IFwCegWnAkPpsgfDLqByHzZA9svFCcA5A0PpAsMKxg0r/hMegC0AQ+kCwwomrmEB2BowlC4wrACGBZ0BQ+nSiWHxnC4AAGgErmEBKGO2h29tE9Svi6sfhgWgDAylCwwrgGFBZ8BQusCwAhgWdAYMpQsMK4BhQWfAULrAsAIYFnQGDKXLDgxLD49xTH/9CwwLOgOG0qV7w7KHc834BhgYFnQGDKVL94bl31w4/S2GMCzoDBhKl+4NK69hp+4TwLCgM2AoXbo3rCHciF32JEQAegCG0qV3w5Jdg1nZ5WwNGBZ0BgylS+eGNVLlV66T9wlgWNAZMJQunRtWXrdO/zIBDAs6A4bSpXfDGoxXA1M/6IJhQW/AULrswLBLgGFBZ8BQusCwAhgWdAYMpQsMK4BhQWfAULr0UP/ff/8/1+vrRDeVoXsAAAAASUVORK5CYII=)\n",
        "\n",
        "O decorrer deste código será uma manipulação desses csvs para melhor vizualização de células e correção de algumas distorções de formatação causadas pelo tabula"
      ]
    },
    {
      "cell_type": "code",
      "metadata": {
        "id": "uMB0d_bIlCT7"
      },
      "source": [
        "#Organizando os arquivos csv\n",
        "import csv\n",
        "from xlwt import Workbook \n",
        "\n",
        "def readCSV (arquivoTabela):\n",
        "  \"\"\"\n",
        "  Função criada com o intuito de ler um arquivo csv e\n",
        "  retornar seus elementos (dados) como forma de lista de strings\n",
        "  \"\"\"\n",
        "  with open(arquivoTabela, newline='') as f:\n",
        "      reader = csv.reader(f)\n",
        "      dados = list(reader)\n",
        "\n",
        "  return dados\n",
        "\n",
        "def geraCSV (nomeFinalArquivo, dados):\n",
        "  \"\"\"\n",
        "  Função criada com o intuito de manipular uma determinada\n",
        "  lista de string e organizá-la em um arquivo csv formando uma tabela desejada,\n",
        "  com sua devida formatação de células\n",
        "  \"\"\"\n",
        "  codigos = []\n",
        "  descricoes = []\n",
        "\n",
        "  for valor in dados:\n",
        "    dado = valor[1].split(' ', 1)\n",
        "    codigos.append(dado[0]) \n",
        "    descricoes.append(dado[1])\n",
        "\n",
        "  #Criando um dataframe utilizando pandas para a vizualização das tabelas\n",
        "  data = {'Código':  codigos,\n",
        "          'Descrição da categoria': descricoes,\n",
        "         }\n",
        "\n",
        "  df = pd.DataFrame(data)\n",
        "\n",
        "  print (df) #Printando a tabela para vizualização\n",
        "\n",
        "  #Utilizando Workbook para escrever os conteúdos das tabelas em diferentes células\n",
        "  wb = Workbook()\n",
        "  tabela = wb.add_sheet('Tabela')\n",
        "  tabela.write(0, 0, 'Código')\n",
        "  tabela.write(0, 1, 'Descrição da categoria')\n",
        "\n",
        "  for linha in range(len(codigos)):\n",
        "    tabela.write(linha+1, 0, int(codigos[linha]))\n",
        "    tabela.write(linha+1, 1, descricoes[linha])\n",
        "\n",
        "  wb.save(nomeFinalArquivo + 'xlsx') \n",
        "  data_xls = pd.read_excel(nomeFinalArquivo + 'xlsx', 'Tabela', index_col=None)\n",
        "  data_xls.to_csv(nomeFinalArquivo + \".csv\", sep=';',encoding='utf-8-sig', index=False)"
      ],
      "execution_count": 12,
      "outputs": []
    },
    {
      "cell_type": "code",
      "metadata": {
        "colab": {
          "base_uri": "https://localhost:8080/"
        },
        "id": "tD_WJv2oUv0V",
        "outputId": "8b21a21c-53be-4fd0-8c13-67b3bf46698c"
      },
      "source": [
        "#Realizando pré-processamento das tabelas de acordo com como tabula retornou as tabelas, para então gerar o CSV final\n",
        "dados = readCSV(\"tabela30.csv\")\n",
        "#Pré-processamento do quadro 30\n",
        "print(dados) #Printando a lista para análise\n",
        "dados = dados[2:]\n",
        "geraCSV(\"Quadro30\", dados)\n",
        "\n",
        "dados = readCSV(\"tabela31.csv\")\n",
        "#Pré-processamento do quadro 31\n",
        "print(dados) #Printando a lista para análise\n",
        "dados = dados[2:]\n",
        "\n",
        "index = 0\n",
        "paraRemover = []\n",
        "\n",
        "for dado in dados:\n",
        "  try:\n",
        "    dado[1] = dado[1] + ' ' + dado[2]\n",
        "  except Exception as e:\n",
        "    dados[index - 1][1] += (\" \" + dado[0]) #Corrigindo um problema de formatação do quadro 31\n",
        "    paraRemover.append(index)\n",
        "\n",
        "  index += 1\n",
        "\n",
        "for i in range(len(paraRemover) - 1, -1, -1): #Corrigindo um problema de formatação do quadro 31\n",
        "  dados.pop(paraRemover[i])\n",
        "\n",
        "geraCSV(\"Quadro31\", dados)\n",
        "\n",
        "dados = readCSV(\"tabela32.csv\")\n",
        "#Pré-processamento do quadro 31\n",
        "print(dados) #Printando a lista para análise\n",
        "dados = dados[3:]\n",
        "dados.pop(2) #Corrigindo um problema de formatação do quadro 32\n",
        "\n",
        "geraCSV(\"Quadro32\", dados)"
      ],
      "execution_count": 13,
      "outputs": [
        {
          "output_type": "stream",
          "name": "stdout",
          "text": [
            "[['\\ufeff', 'Tabela de Tipo do Demandante'], ['0', 'Código Descrição da categoria'], ['1', '1 Operadora'], ['2', '2 Prestador de serviço'], ['3', '3 Consumidor'], ['4', '4 Gestor'], ['5', '5 ANS']]\n",
            "  Código Descrição da categoria\n",
            "0      1              Operadora\n",
            "1      2   Prestador de serviço\n",
            "2      3             Consumidor\n",
            "3      4                 Gestor\n",
            "4      5                    ANS\n",
            "[['\\ufeff', 'Unnamed: 0', 'Tabela de Categoria do Padrão TISS'], ['0', 'Código', 'Descrição da categoria'], ['1', '1', 'Componente Organizacional'], ['2', '2', 'Componente de Conteúdo e Estrutura'], ['3', '3', 'Componente de Representação de Conceitos em Saúde'], ['4', '4', 'Componente de Comunicação'], ['5', '5', 'Componente de Segurança e Privacidade'], ['6', '18', 'Terminologia de diárias, taxas e gases medicinais'], ['7', '19', 'Terminologia de materiais e OPME'], ['8', '20', 'Terminologia de medicamentos'], ['9', '22', 'Terminologia de procedimentos e eventos em saúde'], ['10', '23', 'Terminologia de caráter do atendimento'], ['11', '24', 'Terminologia de Classificação Brasileira de Ocupações (CBO)'], ['12', '25', 'Terminologia de código da despesa'], ['13', '26', 'Terminologia de conselho profissional'], ['14', '27', 'Terminologia de débitos e créditos'], ['15', '28', 'Terminologia de dentes'], ['16', '29', 'Terminologia de diagnóstico por imagem'], ['17', '30', 'Terminologia de Escala de capacidade funcional (ECOG - Escala de Zubrod)'], ['18', '31', 'Terminologia de estadiamento do tumor'], ['19', '32', 'Terminologia de faces do dente'], ['20', '33', 'Terminologia de finalidade do tratamento'], ['21', '34', 'Terminologia de forma de pagamento'], ['22', '35', 'Terminologia de grau de participação'], ['23', '36', 'Terminologia de indicador de acidente'], ['24', '37', 'Terminologia de Indicador de débito ou crédito'], ['', '38', 'Terminologia de mensagens (glosas, negativas e outras)'], ['0', '39', 'Terminologia de motivo de encerramento'], ['1', '40', 'Terminologia de Origem da Guia'], ['2', '41', 'Terminologia de regime de internação'], ['3', '42', 'Terminologia de regiões da boca'], ['4', '43', 'Terminologia de sexo'], ['5', '44', 'Terminologia de situação inicial do dente'], ['6', '45', 'Terminologia de status da solicitação'], ['7', '46', 'Terminologia de status do cancelamento'], ['8', '47', 'Terminologia de status do protocolo'], ['9', '48', 'Terminologia de técnica utilizada'], ['10', '49', 'Terminologia de tipo de acomodação'], ['11', '50', 'Terminologia de tipo de atendimento'], ['12', '51', 'Terminologia de tipo de atendimento em odontologia'], ['13', '52', 'Terminologia de tipo de consulta'], ['14', '53', 'Terminologia de tipo de demonstrativo'], ['15', '54', 'Terminologia de tipo de guia'], ['16', '55', 'Terminologia de tipo de faturamento'], ['17', '56', 'Terminologia de natureza da guia'], ['18', '57', 'Terminologia de tipo de internação'], ['19', '58', 'Terminologia de tipo de quimioterapia'], ['20', '59', 'Terminologia de unidade da federação'], ['21', '60', 'Terminologia de unidade de medida'], ['22', '61', 'Terminologia de via de acesso'], ['23', '62', 'Terminologia de via de administração'], ['24', '63', 'Terminologia de grupos de procedimentos e itens assistenciais para envio para ANS'], ['25', '64', 'Terminologia de forma de envio de procedimentos e itens assistenciais para ANS'], ['', '65', 'Terminologia de metástases'], ['0', '66', 'Terminologia de nódulo'], ['1', '67', 'Terminologia de tumor'], ['2', '68', 'Terminologia de categoria de despesa'], ['3', '69', 'Terminologia de versão do componente de comunicação padrão'], ['4', '70', 'Terminologia de forma de envio do padrão'], ['5', '71', 'Terminologia de tipo de atendimento por operadora intermediária'], ['6', '72', 'Terminologia de tipo de identificação do beneficiário'], ['7', '73', 'Terminologia de etapas de autorização'], ['8', '74', 'Terminologia de motivos de ausência do código de validação'], ['9', '75', 'Terminologia de Cobertura especial'], ['10', '76', 'Terminologia de Regime de atendimento'], ['11', '77', 'Terminologia de Saúde ocupacional'], ['12', '78', 'Terminologia de Tipo de Pagamento'], ['13', '79', 'Terminologia de Modelos de Remuneração entre Operadoras e Prestadores'], ['14', '80', 'Terminologia de formato do documento'], ['15', '81', 'Terminologia de Tipo do documento'], ['16', '87', 'Terminologia de tabelas de domínio'], ['17', '100', 'Legenda da mensagem de verificação de elegibilidade'], ['18', '101', 'Legenda da mensagem de resposta à verificação de elegibilidade'], ['19', '102', 'Legenda da mensagem de solicitação de autorização para realização de'], ['procedimentos'], ['20', '103', 'Legenda da mensagem de autorização para realização de procedimentos'], ['21', '104', 'Legenda da mensagem de envio de lote de anexos'], ['22', '105', 'Legenda da mensagem de recebimento de lote de anexos'], ['23', '106', 'Legenda da mensagem de solicitação de status de autorização'], ['24', '107', 'Legenda da mensagem de situação do status de autorização'], ['25', '108', 'Legenda da mensagem de envio de lote de guias para cobrança'], ['', '109', 'Legenda da mensagem de recebimento de lote de guias de cobrança'], ['0', '110', 'Legenda da mensagem de solicitação de status do protocolo'], ['1', '111', 'Legenda da mensagem de situação do protocolo de cobrança'], ['2', '112', 'Legenda da mensagem de recurso de glosa'], ['3', '113', 'Legenda da mensagem de recebimento do recurso de glosa'], ['4', '114', 'Legenda da mensagem de resposta ao recurso de glosa'], ['5', '115', 'Legenda da mensagem de solicitação de status do recurso de glosa'], ['6', '116', 'Legenda da mensagem de solicitação de demonstrativos de retorno'], ['7', '117', 'Legenda da mensagem de demonstrativos de retorno para o prestador'], ['8', '118', 'Legenda da mensagem de comunicação de internação ou alta do beneficiário'], ['9', '119', 'Legenda da mensagem de resposta à comunicação de internação ou alta do'], ['beneficiário'], ['10', '120', 'Legenda da mensagem de solicitação de cancelamento de guia'], ['11', '121', 'Legenda da mensagem de resposta a solicitação de cancelamento da guia'], ['12', '122', 'Legenda da mensagem de informação acerca da negativa de autorização'], ['13', '123', 'Legenda da mensagem de informações sobre partos'], ['14', '124', 'Legenda da mensagem de envio de dados para ANS'], ['15', '125', 'Legenda da mensagem de utilização de serviços'], ['16', '126', 'Legenda da mensagem de negativa de autorização'], ['17', '127', 'Legenda da mensagem de informação sobre partos'], ['18', '128', 'Mensagem de verificação de elegibilidade (verificaElegibilidade)'], ['19', '129', 'Mensagem de resposta à verificação de elegibilidade (respostaElegibilidade)'], ['20', '130', 'Mensagem de solicitação de autorização para realização de procedimentos'], ['(solicitacaoProcedimento)'], ['21', '131', 'Mensagem de autorização para realização de procedimentos (autorizaçãoServiços)'], ['22', '132', 'Mensagem de envio de lote de anexos (LoteAnexos)'], ['23', '133', 'Mensagem de recebimento de lote de anexos (recebimentoAnexo)'], ['24', '134', 'Mensagem de solicitação de status de autorização (solicitaStatusAutorização)'], ['', '135', 'Mensagem de situação do status de autorização (situaçãoAutorização)'], ['0', '136', 'Mensagem de envio de lote de guias para cobrança (Loteguias)'], ['1', '137', 'Mensagem de recebimento de lote de guias de cobrança (recebimentoLote)'], ['2', '138', 'Mensagem de solicitação de status do protocolo (solicitacaoStatusProtocolo)'], ['3', '139', 'Mensagem de situação do protocolo de cobrança (situacaoProtocolo)'], ['4', '140', 'Mensagem de recurso de glosa (recursoGlosa)'], ['5', '141', 'Mensagem de recebimento do recurso de glosa (recebimentoRecursoGlosa)'], ['6', '142', 'Mensagem de resposta ao recurso de glosa (respostaRecursoGlosa)'], ['7', '143', 'Mensagem de solicitação de status do recurso de glosa'], ['(solicitaçãoStatusRecursoGlosa)'], ['8', '144', 'Mensagem de solicitação de demonstrativos de retorno'], ['(solicitaçãoDemonstrativoRetorno)'], ['9', '145', 'Mensagem de demonstrativos de retorno para o prestador (demonstrativosretorno)'], ['10', '146', 'Mensagem de comunicação de internação ou alta do beneficiário'], ['(comunicacaoInternacao)'], ['11', '147', 'Mensagem de resposta à comunicação de internação ou alta do beneficiário'], ['(reciboComunicacao)'], ['12', '148', 'Mensagem de solicitação de cancelamento de guia (cancelaGuia)'], ['13', '149', 'Mensagem de resposta a solicitação de cancelamento da guia (reciboCancelaGuia)'], ['14', '150', 'Mensagem de envio de dados para ANS (envioOperadorasANS)'], ['15', '151', 'Anexo de outras despesas'], ['16', '152', 'Anexo de solicitação de quimioterapia'], ['17', '153', 'Anexo de solicitação de radioterapia'], ['18', '154', 'Anexo de solicitação OPME'], ['19', '155', 'Anexo tratamento odontológico - situação inicial'], ['20', '156', 'Guia de comprovante presencial'], ['21', '157', 'Guia de consulta'], ['22', '158', 'Guia de demonstrativo de análise da conta'], ['23', '159', 'Guia de demonstrativo de pagamento'], ['', '160', 'Guia de demonstrativo de pagamento - tratamento odontológico'], ['0', '161', 'Guia de honorários'], ['1', '162', 'Guia de recurso de glosa'], ['2', '163', 'Guia de recurso de glosa odontológica'], ['3', '164', 'Guia de resumo de internação'], ['4', '165', 'Guia de serviços profissionais/serviço auxiliar de diagnóstico e terapia'], ['5', '166', 'Guia de solicitação de internação'], ['6', '167', 'Guia de solicitação de prorrogação de internação ou complementação do tratamento'], ['7', '168', 'Guia de tratamento odontológico']]\n",
            "    Código                             Descrição da categoria\n",
            "0        1                          Componente Organizacional\n",
            "1        2                 Componente de Conteúdo e Estrutura\n",
            "2        3  Componente de Representação de Conceitos em Saúde\n",
            "3        4                          Componente de Comunicação\n",
            "4        5              Componente de Segurança e Privacidade\n",
            "..     ...                                                ...\n",
            "133    164                       Guia de resumo de internação\n",
            "134    165  Guia de serviços profissionais/serviço auxilia...\n",
            "135    166                  Guia de solicitação de internação\n",
            "136    167  Guia de solicitação de prorrogação de internaç...\n",
            "137    168                    Guia de tratamento odontológico\n",
            "\n",
            "[138 rows x 2 columns]\n",
            "[['\\ufeff', 'Tabela de Tipo de Solicitação'], ['0', 'Código'], ['1', 'Descrição da categoria'], ['2', '1 Alteração'], ['3', '2 Inclusão'], ['4', ''], ['5', '3 Exclusão']]\n",
            "  Código Descrição da categoria\n",
            "0      1              Alteração\n",
            "1      2               Inclusão\n",
            "2      3               Exclusão\n"
          ]
        }
      ]
    },
    {
      "cell_type": "code",
      "metadata": {
        "colab": {
          "base_uri": "https://localhost:8080/"
        },
        "id": "32_ak-apnxtF",
        "outputId": "cb5c53db-3ffd-4e64-baae-2548f2bee045"
      },
      "source": [
        "#Zipando os arquivos csv\n",
        "\n",
        "!zip -r Teste_Intuitive_Care_{Lucas-Cunha-de-Carvalho}.zip Quadro30.csv Quadro31.csv Quadro32.csv"
      ],
      "execution_count": 14,
      "outputs": [
        {
          "output_type": "stream",
          "name": "stdout",
          "text": [
            "updating: Quadro30.csv (deflated 4%)\n",
            "updating: Quadro31.csv (deflated 74%)\n",
            "updating: Quadro32.csv (deflated 12%)\n"
          ]
        }
      ]
    }
  ]
}