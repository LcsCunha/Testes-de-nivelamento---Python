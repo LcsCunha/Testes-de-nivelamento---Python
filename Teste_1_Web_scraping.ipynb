{
  "nbformat": 4,
  "nbformat_minor": 0,
  "metadata": {
    "colab": {
      "name": "Teste 1 - Web scraping.ipynb",
      "provenance": [],
      "authorship_tag": "ABX9TyMEdJ5hrXx/NI2IfanM/F1J",
      "include_colab_link": true
    },
    "kernelspec": {
      "name": "python3",
      "display_name": "Python 3"
    },
    "language_info": {
      "name": "python"
    }
  },
  "cells": [
    {
      "cell_type": "markdown",
      "metadata": {
        "id": "view-in-github",
        "colab_type": "text"
      },
      "source": [
        "<a href=\"https://colab.research.google.com/github/LcsCunha/Treinos-de-Python/blob/main/Teste_1_Web_scraping.ipynb\" target=\"_parent\"><img src=\"https://colab.research.google.com/assets/colab-badge.svg\" alt=\"Open In Colab\"/></a>"
      ]
    },
    {
      "cell_type": "markdown",
      "metadata": {
        "id": "rKktWlOpn8jm"
      },
      "source": [
        "#Web Scraping\n",
        "Tarefas de código:\n",
        "###    - 1.1 - Acessar o site: https://www.gov.br/ans/pt-br/assuntos/prestadores/padrao-para-troca-de-informacao-de-saude-suplementar-2013-tiss;\n",
        "###    - 1.2 - Buscar a versão mais recente do Padrão TISS (arquivo - padrao_tiss_componente_organizacional_201902.pdf);\n",
        "###    - 1.3 - Baixar o componente organizacional;"
      ]
    },
    {
      "cell_type": "code",
      "metadata": {
        "id": "cx0SMLrSn18w"
      },
      "source": [
        "!pip install beautifulsoup4\n",
        "!pip install requests"
      ],
      "execution_count": null,
      "outputs": []
    },
    {
      "cell_type": "code",
      "metadata": {
        "id": "uWW1_JJspPWh"
      },
      "source": [
        "from urllib.request import urlopen\n",
        "from bs4 import BeautifulSoup\n",
        "\n",
        "def abreUrl (url):\n",
        "  \"\"\"\n",
        "  Transforma todos os elementos de uma pagina em beautiful soup\n",
        "  \"\"\"\n",
        "  html = urlopen(url)\n",
        "  bs = BeautifulSoup(html, 'html.parser')\n",
        "\n",
        "  return bs\n",
        "  \n",
        "bs = abreUrl(\"https://www.gov.br/ans/pt-br/assuntos/prestadores/padrao-para-troca-de-informacao-de-saude-suplementar-2013-tiss\")"
      ],
      "execution_count": null,
      "outputs": []
    },
    {
      "cell_type": "code",
      "metadata": {
        "id": "3lQ-sO6zpZuR"
      },
      "source": [
        "def analisaElemento (elemento, bs): #body, title, head...\n",
        "  \"\"\"\n",
        "  Com esta função pode-se analisar os elementos da página que quiser, \n",
        "  é só inserir o nome da tag no parâmetro 'elemento'\n",
        "  \"\"\"\n",
        "  elemento = bs.find_all(elemento)\n",
        "\n",
        "  html = \"\"\n",
        "\n",
        "  for string in elemento:\n",
        "    html += str(string)\n",
        "\n",
        "  elemento = BeautifulSoup(html, 'html.parser')\n",
        "  print(elemento.prettify())\n",
        "\n",
        "  return elemento\n",
        "\n",
        "analisaElemento(\"div\", bs) \n",
        "#Aqui pode-se buscar tag por tag onde está localizado o objetivo (nesse caso, o link) na página em análise"
      ],
      "execution_count": null,
      "outputs": []
    },
    {
      "cell_type": "code",
      "metadata": {
        "id": "tsy_RIDQtEb2",
        "colab": {
          "base_uri": "https://localhost:8080/"
        },
        "outputId": "3073ce21-318f-4ab3-e63c-706cfc473443"
      },
      "source": [
        "#Encontrado o link com uma análise visual, pude escrever um código para pega-lo\n",
        "linhas = bs.find_all('a', {'class':'alert-link internal-link'})\n",
        "links = [] \n",
        "\n",
        "for link in linhas: \n",
        "  links.append(link.get('href'))\n",
        "\n",
        "print(links)\n",
        "\n",
        "url = \"\"\n",
        "for link in links:\n",
        "  if 'padrao-tiss-2013-agosto-2021' in link:\n",
        "    url = link\n",
        "    break\n",
        "\n",
        "print(url)"
      ],
      "execution_count": null,
      "outputs": [
        {
          "output_type": "stream",
          "name": "stdout",
          "text": [
            "['https://www.gov.br/ans/pt-br/assuntos/prestadores/padrao-para-troca-de-informacao-de-saude-suplementar-2013-tiss/padrao-tiss-2013-agosto-2021', 'https://www.gov.br/ans/pt-br/assuntos/prestadores/padrao-para-troca-de-informacao-de-saude-suplementar-2013-tiss/padrao-tiss-historico-das-versoes-dos-componentes-do-padrao-tiss', 'https://www.gov.br/ans/pt-br/assuntos/prestadores/padrao-para-troca-de-informacao-de-saude-suplementar-2013-tiss/padrao-tiss-tabelas-relacionadas', 'https://www.gov.br/ans/pt-br/assuntos/prestadores/padrao-para-troca-de-informacao-de-saude-suplementar-2013-tiss/copy_of_radar-tiss', 'https://www.gov.br/ans/pt-br/acesso-a-informacao/participacao-da-sociedade/comites-e-comissoes-1/copiss-comite-de-padronizacao-das-informacoes-em-saude-suplementar']\n",
            "https://www.gov.br/ans/pt-br/assuntos/prestadores/padrao-para-troca-de-informacao-de-saude-suplementar-2013-tiss/padrao-tiss-2013-agosto-2021\n"
          ]
        }
      ]
    },
    {
      "cell_type": "code",
      "metadata": {
        "id": "wbAm5i8CaMCE"
      },
      "source": [
        "#Agora, na página onde encontra-se o arquivo procurado, efetuei uma nova análise de elementos\n",
        "bs = abreUrl(url)\n",
        "elemento = analisaElemento(\"table\", bs)"
      ],
      "execution_count": null,
      "outputs": []
    },
    {
      "cell_type": "code",
      "metadata": {
        "id": "6_lNxykrqYrx",
        "colab": {
          "base_uri": "https://localhost:8080/"
        },
        "outputId": "92a6abcc-a412-45bd-fa59-539904c329b0"
      },
      "source": [
        "#Pegando o link onde encontra-se o arquivo\n",
        "linhas = bs.find_all('a', {'class':'btn btn-primary btn-sm center-block internal-link'})\n",
        "links = [] \n",
        "\n",
        "for link in linhas: \n",
        "  links.append(link.get('href'))\n",
        "\n",
        "print(links)\n",
        "\n",
        "url = \"\"\n",
        "for link in links:\n",
        "  if 'padrao_tiss_componente_organizacional_202108.pdf' in link:\n",
        "    url = link\n",
        "    break\n",
        "\n",
        "print(url)"
      ],
      "execution_count": null,
      "outputs": [
        {
          "output_type": "stream",
          "name": "stdout",
          "text": [
            "['https://www.gov.br/ans/pt-br/arquivos/assuntos/prestadores/padrao-para-troca-de-informacao-de-saude-suplementar-tiss/padrao-tiss/padrao_tiss_componente_organizacional_202108.pdf', 'https://www.gov.br/ans/pt-br/arquivos/assuntos/prestadores/padrao-para-troca-de-informacao-de-saude-suplementar-tiss/padrao-tiss/padrao-tiss_componente-de-conteudo-e-estrutura_202107-1.zip', 'https://www.gov.br/ans/pt-br/arquivos/assuntos/prestadores/padrao-para-troca-de-informacao-de-saude-suplementar-tiss/padrao-tiss/Padrao_TISS_seguranca_202107.zip', 'https://www.gov.br/ans/pt-br/arquivos/assuntos/prestadores/padrao-para-troca-de-informacao-de-saude-suplementar-tiss/padrao-tiss/padrao_tiss_comunicacao_202107.zip']\n",
            "https://www.gov.br/ans/pt-br/arquivos/assuntos/prestadores/padrao-para-troca-de-informacao-de-saude-suplementar-tiss/padrao-tiss/padrao_tiss_componente_organizacional_202108.pdf\n"
          ]
        }
      ]
    },
    {
      "cell_type": "code",
      "metadata": {
        "id": "h4_pWOuctIwB"
      },
      "source": [
        "#Finalmente, efetuando o download do arquivo em questão\n",
        "import requests\n",
        "\n",
        "r = requests.get(url, allow_redirects=True)\n",
        "\n",
        "with open(\"padrao_tiss_componente_organizacional_202108.pdf\",'wb') as f:\n",
        "    f.write(r.content)"
      ],
      "execution_count": null,
      "outputs": []
    }
  ]
}